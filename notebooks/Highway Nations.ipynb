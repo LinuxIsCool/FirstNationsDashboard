{
 "cells": [
  {
   "cell_type": "code",
   "execution_count": 1,
   "metadata": {},
   "outputs": [],
   "source": [
    "nations = [\n",
    "    'Burns Lake Band', \n",
    "    'Cheslatta Carrier', \n",
    "    'Gitanmaax', \n",
    "    'Gitanyow', \n",
    "    'Gitsegukla', \n",
    "    'Gitwangak', \n",
    "    'Glen Vowell', \n",
    "    'Hagwilget', \n",
    "    'Kispiox', \n",
    "    'Kitselas', \n",
    "    'Kitsumkalum', \n",
    "    'Lake Babine Nation', \n",
    "    'Lax Kwalaams', \n",
    "    'Lheidli T’enneh ', \n",
    "    'Metlakatla', \n",
    "    'Nadleh Whuten', \n",
    "    'Nee Tahi Buhn', \n",
    "    'Saik’uz', \n",
    "    'Skin Tyee', \n",
    "    'Stellat’en ', \n",
    "    'Wet’suwet’en', \n",
    "    'Witset', \n",
    "    'Binche Whuten', \n",
    "    'Gitxaala', \n",
    "    'Nakazdli Whute', \n",
    "    'Nisga’a people-Gingolx', \n",
    "    'Nisga’a people-Gitwinksihlkw', \n",
    "    'Nisga’a people-Laxgalt’sap', \n",
    "    'Nisga’a people-New Aiyansh', \n",
    "    'Nisga’a people-Old Massett', \n",
    "    'Nisga’a people-Skidegate', \n",
    "    'Takla', \n",
    "    'Tlazten ', \n",
    "    'Yekooche', \n",
    "]"
   ]
  },
  {
   "cell_type": "code",
   "execution_count": null,
   "metadata": {},
   "outputs": [],
   "source": []
  }
 ],
 "metadata": {
  "kernelspec": {
   "display_name": "Python 3",
   "language": "python",
   "name": "python3"
  },
  "language_info": {
   "codemirror_mode": {
    "name": "ipython",
    "version": 3
   },
   "file_extension": ".py",
   "mimetype": "text/x-python",
   "name": "python",
   "nbconvert_exporter": "python",
   "pygments_lexer": "ipython3",
   "version": "3.6.8"
  }
 },
 "nbformat": 4,
 "nbformat_minor": 2
}
